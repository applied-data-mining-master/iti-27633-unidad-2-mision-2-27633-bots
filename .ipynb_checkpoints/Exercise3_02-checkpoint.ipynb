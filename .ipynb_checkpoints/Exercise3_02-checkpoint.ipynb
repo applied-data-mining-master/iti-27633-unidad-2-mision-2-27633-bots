{
 "cells": [
  {
   "cell_type": "markdown",
   "metadata": {},
   "source": [
    "# Exercise 3.02: Applying Label Encoding to Transform Categorical Variables into Numerical Variables\n",
    "\n",
    "In this exercise, we will use one of the preprocessing techniques we just learned, label encoding, to transform all categorical variables into numerical ones. This step is necessary before training any machine learning model.\n",
    "\n",
    "The following steps will help you complete this exercise:"
   ]
  },
  {
   "cell_type": "markdown",
   "metadata": {},
   "source": [
    "1.- Import the `pandas` package as `pd`. Also  import `preprocessing` from `scikit-learn`."
   ]
  },
  {
   "cell_type": "code",
   "execution_count": null,
   "metadata": {},
   "outputs": [],
   "source": []
  },
  {
   "cell_type": "markdown",
   "metadata": {},
   "source": [
    "2.- Create a new variable called `file_url`, which will contain the URL to the raw dataset. Use the `data/german_credit.csv` file."
   ]
  },
  {
   "cell_type": "code",
   "execution_count": null,
   "metadata": {},
   "outputs": [],
   "source": []
  },
  {
   "cell_type": "markdown",
   "metadata": {},
   "source": [
    "3.- Load the data using the `pd.read_csv()` method"
   ]
  },
  {
   "cell_type": "code",
   "execution_count": null,
   "metadata": {},
   "outputs": [],
   "source": []
  },
  {
   "cell_type": "markdown",
   "metadata": {},
   "source": [
    "4.- Define a function called `fit_encoder()` that takes a DataFrame and a column name as parameters and will fit a label encoder on the values of the column. You will use `.LabelEncoder()` and `.fit()` from `preprocessing` and `.unique()` from pandas (this will extract all the possible values of a DataFrame column):"
   ]
  },
  {
   "cell_type": "code",
   "execution_count": null,
   "metadata": {},
   "outputs": [],
   "source": []
  },
  {
   "cell_type": "markdown",
   "metadata": {},
   "source": [
    "5.- Define a function called `encode()` that takes a DataFrame, a column name, and a label encoder as parameters and will transform the values of the column using the label encoder. You will use the `.transform()` method to do this"
   ]
  },
  {
   "cell_type": "code",
   "execution_count": null,
   "metadata": {},
   "outputs": [],
   "source": []
  },
  {
   "cell_type": "markdown",
   "metadata": {},
   "source": [
    "6.- Create a new DataFrame called `cat_df` that contains only non-numeric columns and print its first five rows.\n",
    "\n",
    "  > **Hints**  \n",
    "  > You will use the .select_dtypes() method from pandas and specify exclude='number'\n",
    "  \n",
    "Output:\n",
    "\n",
    "![Figure 3.5](img/fig3_05.jpg)"
   ]
  },
  {
   "cell_type": "code",
   "execution_count": null,
   "metadata": {},
   "outputs": [],
   "source": []
  },
  {
   "cell_type": "markdown",
   "metadata": {},
   "source": [
    "7.- Create a list called `cat_cols` that contains the column name of `cat_df` and print its content.\n",
    "\n",
    "  > **Hint**  \n",
    "  > You will use .columns from pandas to do this\n",
    "  \n",
    "Output:\n",
    "\n",
    "```\n",
    "Index(['account_check_status', 'credit_history', 'purpose', 'savings',\n",
    "       'present_emp_since', 'other_debtors', 'property',\n",
    "       'other_installment_plans', 'housing', 'job', 'telephone',\n",
    "       'foreign_worker'],\n",
    "      dtype='object')\n",
    "```"
   ]
  },
  {
   "cell_type": "code",
   "execution_count": null,
   "metadata": {},
   "outputs": [],
   "source": []
  },
  {
   "cell_type": "markdown",
   "metadata": {},
   "source": [
    "8.- Create a `for` loop that will iterate through each column from `cat_cols`, fit a label encoder using `fit_encoder()`, and transform the column with the `encode()` function"
   ]
  },
  {
   "cell_type": "code",
   "execution_count": null,
   "metadata": {},
   "outputs": [],
   "source": []
  },
  {
   "cell_type": "markdown",
   "metadata": {},
   "source": [
    "9 .- Print the first five rows of `df`\n",
    "\n",
    "Output:\n",
    "\n",
    "![Figure 3.6](img/fig3_06.jpg)"
   ]
  },
  {
   "cell_type": "code",
   "execution_count": null,
   "metadata": {},
   "outputs": [],
   "source": []
  },
  {
   "cell_type": "markdown",
   "metadata": {},
   "source": [
    "We have successfully encoded non-numeric columns. Now, our DataFrame contains only numeric values."
   ]
  },
  {
   "cell_type": "code",
   "execution_count": null,
   "metadata": {},
   "outputs": [],
   "source": []
  },
  {
   "cell_type": "code",
   "execution_count": null,
   "metadata": {},
   "outputs": [],
   "source": []
  }
 ],
 "metadata": {
  "kernelspec": {
   "display_name": "Python 3",
   "language": "python",
   "name": "python3"
  },
  "language_info": {
   "codemirror_mode": {
    "name": "ipython",
    "version": 3
   },
   "file_extension": ".py",
   "mimetype": "text/x-python",
   "name": "python",
   "nbconvert_exporter": "python",
   "pygments_lexer": "ipython3",
   "version": "3.8.5"
  }
 },
 "nbformat": 4,
 "nbformat_minor": 4
}
