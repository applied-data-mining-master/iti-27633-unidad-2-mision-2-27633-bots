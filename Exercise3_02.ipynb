{
  "nbformat": 4,
  "nbformat_minor": 0,
  "metadata": {
    "kernelspec": {
      "display_name": "Python 3",
      "language": "python",
      "name": "python3"
    },
    "language_info": {
      "codemirror_mode": {
        "name": "ipython",
        "version": 3
      },
      "file_extension": ".py",
      "mimetype": "text/x-python",
      "name": "python",
      "nbconvert_exporter": "python",
      "pygments_lexer": "ipython3",
      "version": "3.8.5"
    },
    "colab": {
      "name": "Exercise3_02.ipynb",
      "provenance": []
    }
  },
  "cells": [
    {
      "cell_type": "markdown",
      "metadata": {
        "id": "SoKpgLkXCZAV"
      },
      "source": [
        "# Exercise 3.02: Applying Label Encoding to Transform Categorical Variables into Numerical Variables\n",
        "\n",
        "In this exercise, we will use one of the preprocessing techniques we just learned, label encoding, to transform all categorical variables into numerical ones. This step is necessary before training any machine learning model.\n",
        "\n",
        "The following steps will help you complete this exercise:"
      ]
    },
    {
      "cell_type": "markdown",
      "metadata": {
        "id": "BcMDCgI5CZCp"
      },
      "source": [
        "1.- Import the `pandas` package as `pd`. Also  import `preprocessing` from `scikit-learn`."
      ]
    },
    {
      "cell_type": "code",
      "metadata": {
        "id": "O70qm6dGCZCx"
      },
      "source": [
        "import pandas as pd\r\n",
        "from sklearn import preprocessing"
      ],
      "execution_count": 1,
      "outputs": []
    },
    {
      "cell_type": "markdown",
      "metadata": {
        "id": "zjoYOs40CZC4"
      },
      "source": [
        "2.- Create a new variable called `file_url`, which will contain the URL to the raw dataset. Use the `data/german_credit.csv` file."
      ]
    },
    {
      "cell_type": "code",
      "metadata": {
        "id": "mDdLf_fuCZC5"
      },
      "source": [
        "file_url='https://raw.githubusercontent.com/applied-data-mining-master/syllabus_intelligencesystems/main/data/german_credit.csv'"
      ],
      "execution_count": 2,
      "outputs": []
    },
    {
      "cell_type": "markdown",
      "metadata": {
        "id": "dED7LRa_CZC7"
      },
      "source": [
        "3.- Load the data using the `pd.read_csv()` method"
      ]
    },
    {
      "cell_type": "code",
      "metadata": {
        "id": "KQfTMAMFCZC8"
      },
      "source": [
        "df = pd.read_csv(file_url)"
      ],
      "execution_count": 3,
      "outputs": []
    },
    {
      "cell_type": "markdown",
      "metadata": {
        "id": "CqNCxP9PCZC_"
      },
      "source": [
        "4.- Define a function called `fit_encoder()` that takes a DataFrame and a column name as parameters and will fit a label encoder on the values of the column. You will use `.LabelEncoder()` and `.fit()` from `preprocessing` and `.unique()` from pandas (this will extract all the possible values of a DataFrame column):"
      ]
    },
    {
      "cell_type": "code",
      "metadata": {
        "id": "iurElAIdCZDA"
      },
      "source": [
        "\r\n",
        "def fit_encoder(df, columna):\r\n",
        "    label_encoder = preprocessing.LabelEncoder()\r\n",
        "    label_encoder.fit(df[columna].unique())\r\n",
        "\r\n",
        "    return label_encoder"
      ],
      "execution_count": 4,
      "outputs": []
    },
    {
      "cell_type": "markdown",
      "metadata": {
        "id": "KqgNxR4BCZDB"
      },
      "source": [
        "5.- Define a function called `encode()` that takes a DataFrame, a column name, and a label encoder as parameters and will transform the values of the column using the label encoder. You will use the `.transform()` method to do this"
      ]
    },
    {
      "cell_type": "code",
      "metadata": {
        "id": "sxxcBvWnCZDC"
      },
      "source": [
        "\r\n",
        "def encode(df, columna, label_encoder):\r\n",
        "    transform = label_encoder.transform(df[columna])\r\n",
        "    return transform"
      ],
      "execution_count": 5,
      "outputs": []
    },
    {
      "cell_type": "markdown",
      "metadata": {
        "id": "VB3ZWv0PCZDD"
      },
      "source": [
        "6.- Create a new DataFrame called `cat_df` that contains only non-numeric columns and print its first five rows.\n",
        "\n",
        "  > **Hints**  \n",
        "  > You will use the .select_dtypes() method from pandas and specify exclude='number'\n",
        "  \n",
        "Output:\n",
        "\n",
        "![Figure 3.5](img/fig3_05.jpg)"
      ]
    },
    {
      "cell_type": "code",
      "metadata": {
        "id": "byYQYcRfCZDL",
        "colab": {
          "base_uri": "https://localhost:8080/",
          "height": 462
        },
        "outputId": "8cce2375-2d87-4d3c-dfdb-1afc96aea574"
      },
      "source": [
        "cat_df = df.select_dtypes(exclude='number')\r\n",
        "cat_df.head()"
      ],
      "execution_count": 6,
      "outputs": [
        {
          "output_type": "execute_result",
          "data": {
            "text/html": [
              "<div>\n",
              "<style scoped>\n",
              "    .dataframe tbody tr th:only-of-type {\n",
              "        vertical-align: middle;\n",
              "    }\n",
              "\n",
              "    .dataframe tbody tr th {\n",
              "        vertical-align: top;\n",
              "    }\n",
              "\n",
              "    .dataframe thead th {\n",
              "        text-align: right;\n",
              "    }\n",
              "</style>\n",
              "<table border=\"1\" class=\"dataframe\">\n",
              "  <thead>\n",
              "    <tr style=\"text-align: right;\">\n",
              "      <th></th>\n",
              "      <th>account_check_status</th>\n",
              "      <th>credit_history</th>\n",
              "      <th>purpose</th>\n",
              "      <th>savings</th>\n",
              "      <th>present_emp_since</th>\n",
              "      <th>other_debtors</th>\n",
              "      <th>property</th>\n",
              "      <th>other_installment_plans</th>\n",
              "      <th>housing</th>\n",
              "      <th>job</th>\n",
              "      <th>telephone</th>\n",
              "      <th>foreign_worker</th>\n",
              "    </tr>\n",
              "  </thead>\n",
              "  <tbody>\n",
              "    <tr>\n",
              "      <th>0</th>\n",
              "      <td>&lt; 0 DM</td>\n",
              "      <td>critical account/ other credits existing (not ...</td>\n",
              "      <td>domestic appliances</td>\n",
              "      <td>unknown/ no savings account</td>\n",
              "      <td>.. &gt;= 7 years</td>\n",
              "      <td>none</td>\n",
              "      <td>real estate</td>\n",
              "      <td>none</td>\n",
              "      <td>own</td>\n",
              "      <td>skilled employee / official</td>\n",
              "      <td>yes, registered under the customers name</td>\n",
              "      <td>yes</td>\n",
              "    </tr>\n",
              "    <tr>\n",
              "      <th>1</th>\n",
              "      <td>0 &lt;= ... &lt; 200 DM</td>\n",
              "      <td>existing credits paid back duly till now</td>\n",
              "      <td>domestic appliances</td>\n",
              "      <td>... &lt; 100 DM</td>\n",
              "      <td>1 &lt;= ... &lt; 4 years</td>\n",
              "      <td>none</td>\n",
              "      <td>real estate</td>\n",
              "      <td>none</td>\n",
              "      <td>own</td>\n",
              "      <td>skilled employee / official</td>\n",
              "      <td>none</td>\n",
              "      <td>yes</td>\n",
              "    </tr>\n",
              "    <tr>\n",
              "      <th>2</th>\n",
              "      <td>no checking account</td>\n",
              "      <td>critical account/ other credits existing (not ...</td>\n",
              "      <td>(vacation - does not exist?)</td>\n",
              "      <td>... &lt; 100 DM</td>\n",
              "      <td>4 &lt;= ... &lt; 7 years</td>\n",
              "      <td>none</td>\n",
              "      <td>real estate</td>\n",
              "      <td>none</td>\n",
              "      <td>own</td>\n",
              "      <td>unskilled - resident</td>\n",
              "      <td>none</td>\n",
              "      <td>yes</td>\n",
              "    </tr>\n",
              "    <tr>\n",
              "      <th>3</th>\n",
              "      <td>&lt; 0 DM</td>\n",
              "      <td>existing credits paid back duly till now</td>\n",
              "      <td>radio/television</td>\n",
              "      <td>... &lt; 100 DM</td>\n",
              "      <td>4 &lt;= ... &lt; 7 years</td>\n",
              "      <td>guarantor</td>\n",
              "      <td>if not A121 : building society savings agreeme...</td>\n",
              "      <td>none</td>\n",
              "      <td>for free</td>\n",
              "      <td>skilled employee / official</td>\n",
              "      <td>none</td>\n",
              "      <td>yes</td>\n",
              "    </tr>\n",
              "    <tr>\n",
              "      <th>4</th>\n",
              "      <td>&lt; 0 DM</td>\n",
              "      <td>delay in paying off in the past</td>\n",
              "      <td>car (new)</td>\n",
              "      <td>... &lt; 100 DM</td>\n",
              "      <td>1 &lt;= ... &lt; 4 years</td>\n",
              "      <td>none</td>\n",
              "      <td>unknown / no property</td>\n",
              "      <td>none</td>\n",
              "      <td>for free</td>\n",
              "      <td>skilled employee / official</td>\n",
              "      <td>none</td>\n",
              "      <td>yes</td>\n",
              "    </tr>\n",
              "  </tbody>\n",
              "</table>\n",
              "</div>"
            ],
            "text/plain": [
              "  account_check_status  ... foreign_worker\n",
              "0               < 0 DM  ...            yes\n",
              "1    0 <= ... < 200 DM  ...            yes\n",
              "2  no checking account  ...            yes\n",
              "3               < 0 DM  ...            yes\n",
              "4               < 0 DM  ...            yes\n",
              "\n",
              "[5 rows x 12 columns]"
            ]
          },
          "metadata": {
            "tags": []
          },
          "execution_count": 6
        }
      ]
    },
    {
      "cell_type": "markdown",
      "metadata": {
        "id": "iOZsG9HsCZDL"
      },
      "source": [
        "7.- Create a list called `cat_cols` that contains the column name of `cat_df` and print its content.\n",
        "\n",
        "  > **Hint**  \n",
        "  > You will use .columns from pandas to do this\n",
        "  \n",
        "Output:\n",
        "\n",
        "```\n",
        "Index(['account_check_status', 'credit_history', 'purpose', 'savings',\n",
        "       'present_emp_since', 'other_debtors', 'property',\n",
        "       'other_installment_plans', 'housing', 'job', 'telephone',\n",
        "       'foreign_worker'],\n",
        "      dtype='object')\n",
        "```"
      ]
    },
    {
      "cell_type": "code",
      "metadata": {
        "id": "5xA2ZP2vCZDN",
        "colab": {
          "base_uri": "https://localhost:8080/"
        },
        "outputId": "c6a499eb-6c9c-4028-b92c-a42e18351895"
      },
      "source": [
        "cat_cols = cat_df.columns\r\n",
        "cat_cols"
      ],
      "execution_count": 7,
      "outputs": [
        {
          "output_type": "execute_result",
          "data": {
            "text/plain": [
              "Index(['account_check_status', 'credit_history', 'purpose', 'savings',\n",
              "       'present_emp_since', 'other_debtors', 'property',\n",
              "       'other_installment_plans', 'housing', 'job', 'telephone',\n",
              "       'foreign_worker'],\n",
              "      dtype='object')"
            ]
          },
          "metadata": {
            "tags": []
          },
          "execution_count": 7
        }
      ]
    },
    {
      "cell_type": "markdown",
      "metadata": {
        "id": "8AEp_hfeCZDO"
      },
      "source": [
        "8.- Create a `for` loop that will iterate through each column from `cat_cols`, fit a label encoder using `fit_encoder()`, and transform the column with the `encode()` function"
      ]
    },
    {
      "cell_type": "code",
      "metadata": {
        "id": "-aduQjqLCZDO"
      },
      "source": [
        "for columna in cat_cols:\r\n",
        "    label_encoder = fit_encoder(df, columna)\r\n",
        "    df[columna] = encode(df, columna, label_encoder)"
      ],
      "execution_count": 8,
      "outputs": []
    },
    {
      "cell_type": "markdown",
      "metadata": {
        "id": "OjPBVsmHCZDP"
      },
      "source": [
        "9 .- Print the first five rows of `df`\n",
        "\n",
        "Output:\n",
        "\n",
        "![Figure 3.6](img/fig3_06.jpg)"
      ]
    },
    {
      "cell_type": "code",
      "metadata": {
        "id": "Ubp8xMrTCZDY",
        "colab": {
          "base_uri": "https://localhost:8080/",
          "height": 224
        },
        "outputId": "3cb1f830-d2c3-4c35-9bbe-cb7dee8cb9ff"
      },
      "source": [
        "df.head()"
      ],
      "execution_count": 9,
      "outputs": [
        {
          "output_type": "execute_result",
          "data": {
            "text/html": [
              "<div>\n",
              "<style scoped>\n",
              "    .dataframe tbody tr th:only-of-type {\n",
              "        vertical-align: middle;\n",
              "    }\n",
              "\n",
              "    .dataframe tbody tr th {\n",
              "        vertical-align: top;\n",
              "    }\n",
              "\n",
              "    .dataframe thead th {\n",
              "        text-align: right;\n",
              "    }\n",
              "</style>\n",
              "<table border=\"1\" class=\"dataframe\">\n",
              "  <thead>\n",
              "    <tr style=\"text-align: right;\">\n",
              "      <th></th>\n",
              "      <th>default</th>\n",
              "      <th>account_check_status</th>\n",
              "      <th>duration_in_month</th>\n",
              "      <th>credit_history</th>\n",
              "      <th>purpose</th>\n",
              "      <th>credit_amount</th>\n",
              "      <th>savings</th>\n",
              "      <th>present_emp_since</th>\n",
              "      <th>installment_as_income_perc</th>\n",
              "      <th>other_debtors</th>\n",
              "      <th>present_res_since</th>\n",
              "      <th>property</th>\n",
              "      <th>age</th>\n",
              "      <th>other_installment_plans</th>\n",
              "      <th>housing</th>\n",
              "      <th>credits_this_bank</th>\n",
              "      <th>job</th>\n",
              "      <th>people_under_maintenance</th>\n",
              "      <th>telephone</th>\n",
              "      <th>foreign_worker</th>\n",
              "    </tr>\n",
              "  </thead>\n",
              "  <tbody>\n",
              "    <tr>\n",
              "      <th>0</th>\n",
              "      <td>0</td>\n",
              "      <td>1</td>\n",
              "      <td>6</td>\n",
              "      <td>1</td>\n",
              "      <td>4</td>\n",
              "      <td>1169</td>\n",
              "      <td>4</td>\n",
              "      <td>0</td>\n",
              "      <td>4</td>\n",
              "      <td>2</td>\n",
              "      <td>4</td>\n",
              "      <td>2</td>\n",
              "      <td>67</td>\n",
              "      <td>1</td>\n",
              "      <td>1</td>\n",
              "      <td>2</td>\n",
              "      <td>1</td>\n",
              "      <td>1</td>\n",
              "      <td>1</td>\n",
              "      <td>1</td>\n",
              "    </tr>\n",
              "    <tr>\n",
              "      <th>1</th>\n",
              "      <td>1</td>\n",
              "      <td>0</td>\n",
              "      <td>48</td>\n",
              "      <td>3</td>\n",
              "      <td>4</td>\n",
              "      <td>5951</td>\n",
              "      <td>1</td>\n",
              "      <td>2</td>\n",
              "      <td>2</td>\n",
              "      <td>2</td>\n",
              "      <td>2</td>\n",
              "      <td>2</td>\n",
              "      <td>22</td>\n",
              "      <td>1</td>\n",
              "      <td>1</td>\n",
              "      <td>1</td>\n",
              "      <td>1</td>\n",
              "      <td>1</td>\n",
              "      <td>0</td>\n",
              "      <td>1</td>\n",
              "    </tr>\n",
              "    <tr>\n",
              "      <th>2</th>\n",
              "      <td>0</td>\n",
              "      <td>3</td>\n",
              "      <td>12</td>\n",
              "      <td>1</td>\n",
              "      <td>0</td>\n",
              "      <td>2096</td>\n",
              "      <td>1</td>\n",
              "      <td>3</td>\n",
              "      <td>2</td>\n",
              "      <td>2</td>\n",
              "      <td>3</td>\n",
              "      <td>2</td>\n",
              "      <td>49</td>\n",
              "      <td>1</td>\n",
              "      <td>1</td>\n",
              "      <td>1</td>\n",
              "      <td>3</td>\n",
              "      <td>2</td>\n",
              "      <td>0</td>\n",
              "      <td>1</td>\n",
              "    </tr>\n",
              "    <tr>\n",
              "      <th>3</th>\n",
              "      <td>0</td>\n",
              "      <td>1</td>\n",
              "      <td>42</td>\n",
              "      <td>3</td>\n",
              "      <td>7</td>\n",
              "      <td>7882</td>\n",
              "      <td>1</td>\n",
              "      <td>3</td>\n",
              "      <td>2</td>\n",
              "      <td>1</td>\n",
              "      <td>4</td>\n",
              "      <td>0</td>\n",
              "      <td>45</td>\n",
              "      <td>1</td>\n",
              "      <td>0</td>\n",
              "      <td>1</td>\n",
              "      <td>1</td>\n",
              "      <td>2</td>\n",
              "      <td>0</td>\n",
              "      <td>1</td>\n",
              "    </tr>\n",
              "    <tr>\n",
              "      <th>4</th>\n",
              "      <td>1</td>\n",
              "      <td>1</td>\n",
              "      <td>24</td>\n",
              "      <td>2</td>\n",
              "      <td>2</td>\n",
              "      <td>4870</td>\n",
              "      <td>1</td>\n",
              "      <td>2</td>\n",
              "      <td>3</td>\n",
              "      <td>2</td>\n",
              "      <td>4</td>\n",
              "      <td>3</td>\n",
              "      <td>53</td>\n",
              "      <td>1</td>\n",
              "      <td>0</td>\n",
              "      <td>2</td>\n",
              "      <td>1</td>\n",
              "      <td>2</td>\n",
              "      <td>0</td>\n",
              "      <td>1</td>\n",
              "    </tr>\n",
              "  </tbody>\n",
              "</table>\n",
              "</div>"
            ],
            "text/plain": [
              "   default  account_check_status  ...  telephone  foreign_worker\n",
              "0        0                     1  ...          1               1\n",
              "1        1                     0  ...          0               1\n",
              "2        0                     3  ...          0               1\n",
              "3        0                     1  ...          0               1\n",
              "4        1                     1  ...          0               1\n",
              "\n",
              "[5 rows x 20 columns]"
            ]
          },
          "metadata": {
            "tags": []
          },
          "execution_count": 9
        }
      ]
    },
    {
      "cell_type": "markdown",
      "metadata": {
        "id": "UKqY6NzWCZDi"
      },
      "source": [
        "We have successfully encoded non-numeric columns. Now, our DataFrame contains only numeric values."
      ]
    }
  ]
}